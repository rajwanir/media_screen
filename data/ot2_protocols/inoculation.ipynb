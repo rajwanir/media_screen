{
 "cells": [
  {
   "cell_type": "code",
   "execution_count": 1,
   "id": "b194d6ec-14a1-4de6-bc71-cd051be9d40d",
   "metadata": {},
   "outputs": [],
   "source": [
    "from opentrons import protocol_api\n",
    "import pandas as pd\n",
    "metadata = {'apiLevel': '2.13'}\n",
    "taget_plates = ['P10','P11']"
   ]
  },
  {
   "cell_type": "code",
   "execution_count": 13,
   "id": "1dfa006c-5445-4ca4-9754-e561e7af32f6",
   "metadata": {},
   "outputs": [],
   "source": [
    "all_wells=['A1', 'A10', 'A11', 'A12', 'A2', 'A3', 'A4', 'A5', 'A6', 'A7', 'A8', 'A9', 'B1', 'B10', 'B11', 'B12', 'B2', 'B3', 'B4', 'B5', 'B6', 'B7', 'B8', 'B9', 'C1', 'C10', 'C11', 'C12', 'C2', 'C3', 'C4', 'C5', 'C6', 'C7', 'C8', 'C9', 'D1', 'D10', 'D11', 'D12', 'D2', 'D3', 'D4', 'D5', 'D6', 'D7', 'D8', 'D9', 'E1', 'E10', 'E11', 'E12', 'E2', 'E3', 'E4', 'E5', 'E6', 'E7', 'E8', 'E9', 'F1', 'F10', 'F11', 'F12', 'F2', 'F3', 'F4', 'F5', 'F6', 'F7', 'F8', 'F9', 'G1', 'G10', 'G11', 'G12', 'G2', 'G3', 'G4', 'G5', 'G6', 'G7', 'G8', 'G9', 'H1', 'H10', 'H11', 'H12', 'H2', 'H3', 'H4', 'H5', 'H6', 'H7', 'H8', 'H9']"
   ]
  },
  {
   "cell_type": "code",
   "execution_count": 10,
   "id": "78f83b87-8603-4f14-9e11-e027051ee7ec",
   "metadata": {},
   "outputs": [],
   "source": [
    "def run(protocol: protocol_api.ProtocolContext):\n",
    "    \n",
    "    #loading tipracks and pipettes\n",
    "    p20_tiprack = protocol.load_labware('opentrons_96_tiprack_20ul', 1)\n",
    "    p20 = protocol.load_instrument('p20_single_gen2', 'left', tip_racks=[p20_tiprack])\n",
    "    \n",
    "    \n",
    "    #assinging plates\n",
    "    plates = {}\n",
    "    # plates['P1'] = protocol.load_labware('corning_96_wellplate_360ul_flat', 3)\n",
    "    # plates['P2'] = protocol.load_labware('corning_96_wellplate_360ul_flat', 4)\n",
    "    # plates['P3'] = protocol.load_labware('corning_96_wellplate_360ul_flat', 5)\n",
    "    # plates['P4'] = protocol.load_labware('corning_96_wellplate_360ul_flat', 6)\n",
    "    # plates['P5'] = protocol.load_labware('corning_96_wellplate_360ul_flat', 7)\n",
    "    # plates['P6'] = protocol.load_labware('corning_96_wellplate_360ul_flat', 8)\n",
    "    # plates['P7'] = protocol.load_labware('corning_96_wellplate_360ul_flat', 9)\n",
    "    # plates['P8'] = protocol.load_labware('corning_96_wellplate_360ul_flat', 10)\n",
    "    # plates['P9'] = protocol.load_labware('corning_96_wellplate_360ul_flat', 11)\n",
    "    plates['P10'] = protocol.load_labware('corning_96_wellplate_360ul_flat', 3)\n",
    "    plates['P11'] = protocol.load_labware('corning_96_wellplate_360ul_flat', 4)\n",
    "    \n",
    "    #assin incoulum\n",
    "    stock_rack = protocol.load_labware('opentrons_24_tuberack_generic_2ml_screwcap', 2)\n",
    "    seed_culture = stock_rack.wells_by_name()['D6']\n",
    "    \n",
    "    for p in taget_plates:\n",
    "        #add water\n",
    "        p20.distribute(volume = 1,\n",
    "                         source = seed_culture,\n",
    "                         dest = [plates[p].wells_by_name()[well_name] for well_name in all_wells])"
   ]
  }
 ],
 "metadata": {
  "kernelspec": {
   "display_name": "Python 3 (ipykernel)",
   "language": "python",
   "name": "python3"
  },
  "language_info": {
   "codemirror_mode": {
    "name": "ipython",
    "version": 3
   },
   "file_extension": ".py",
   "mimetype": "text/x-python",
   "name": "python",
   "nbconvert_exporter": "python",
   "pygments_lexer": "ipython3",
   "version": "3.10.9"
  }
 },
 "nbformat": 4,
 "nbformat_minor": 5
}
